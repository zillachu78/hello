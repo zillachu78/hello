{
 "cells": [
  {
   "cell_type": "code",
   "execution_count": 2,
   "id": "77d4263e-acf5-438a-9318-415306b63c0e",
   "metadata": {},
   "outputs": [
    {
     "name": "stdout",
     "output_type": "stream",
     "text": [
      "[2 2 1 2 1 1 0 2 1 1 1 0 0 0 0 0 2 2 1 1 0 2 0 0 2 0 0 0 1 1]\n",
      "\n",
      "Accuracy :  0.9333333333333333\n",
      "Precision :  0.9333333333333332\n",
      "Recall :  0.9333333333333332\n",
      "F1-SCORE :  0.9259259259259259\n",
      "AUC :  1.0\n"
     ]
    }
   ],
   "source": [
    "#Program 11: SVM\n",
    "\n",
    "from sklearn import datasets\n",
    "iris = datasets.load_iris()\n",
    "\n",
    "x = iris.data\n",
    "y = iris.target\n",
    "\n",
    "from sklearn.model_selection import train_test_split\n",
    "x_train, x_test, y_train, y_test = train_test_split(x,y,train_size=0.8)\n",
    "\n",
    "from sklearn import svm\n",
    "svc_cl = svm.SVC(probability=True)\n",
    "\n",
    "train = svc_cl.fit(x_train, y_train)\n",
    "y_pred = svc_cl.predict(x_test)\n",
    "print(y_pred)\n",
    "y_auc = svc_cl.predict_proba(x_test)\n",
    "\n",
    "from sklearn.metrics import accuracy_score, precision_score, recall_score, f1_score, roc_auc_score\n",
    "Accuracy = accuracy_score(y_test, y_pred)\n",
    "Precision = precision_score(y_test, y_pred, average='macro')\n",
    "Recall = recall_score(y_test, y_pred, average='macro')\n",
    "f1 = f1_score(y_test, y_pred, average='macro')\n",
    "auc = roc_auc_score(y_test, y_auc, multi_class='ovr')\n",
    "\n",
    "print(\"\\nAccuracy : \", Accuracy)\n",
    "print(\"Precision : \", Precision)\n",
    "print(\"Recall : \", Recall)\n",
    "print(\"F1-SCORE : \", f1)\n",
    "print(\"AUC : \", auc)"
   ]
  },
  {
   "cell_type": "code",
   "execution_count": null,
   "id": "02db5021-eb25-4f27-b533-531765f5ac5f",
   "metadata": {},
   "outputs": [],
   "source": []
  }
 ],
 "metadata": {
  "kernelspec": {
   "display_name": "Python 3 (ipykernel)",
   "language": "python",
   "name": "python3"
  },
  "language_info": {
   "codemirror_mode": {
    "name": "ipython",
    "version": 3
   },
   "file_extension": ".py",
   "mimetype": "text/x-python",
   "name": "python",
   "nbconvert_exporter": "python",
   "pygments_lexer": "ipython3",
   "version": "3.13.5"
  }
 },
 "nbformat": 4,
 "nbformat_minor": 5
}
